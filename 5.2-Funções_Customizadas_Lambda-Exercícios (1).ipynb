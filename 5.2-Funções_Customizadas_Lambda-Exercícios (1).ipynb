{
  "metadata": {
    "kernelspec": {
      "name": "python",
      "display_name": "Python (Pyodide)",
      "language": "python"
    },
    "language_info": {
      "codemirror_mode": {
        "name": "python",
        "version": 3
      },
      "file_extension": ".py",
      "mimetype": "text/x-python",
      "name": "python",
      "nbconvert_exporter": "python",
      "pygments_lexer": "ipython3",
      "version": "3.8"
    }
  },
  "nbformat_minor": 5,
  "nbformat": 4,
  "cells": [
    {
      "id": "cbdff5a5",
      "cell_type": "markdown",
      "source": "# Módulo 5 - Funções\n\n## Aulas 5.2 - Funções Customizadas e 5.4 Funções ```lambda```",
      "metadata": {}
    },
    {
      "id": "28a3fee2",
      "cell_type": "markdown",
      "source": "### Q1.\n\n- Sabendo que o código a seguir calcula o fatorial de n, escreva uma função chamada ```fatorial()``` que recebe um inteiro ```n``` como parâmetro e retorna o resultado do fatorial de ```n```. \n- No programa principal, peça ao usuário o valor de ```n```, chame a sua função e imprima o retorno.\n\n```python\nfat = 1\nfor i in range(1, n+1):\n    fat *= i \n```",
      "metadata": {}
    },
    {
      "id": "d126b3a5",
      "cell_type": "code",
      "source": "def fatorial(n):\n    fat = 1\n    for i in range(1, n + 1):\n        fat *= i\n    return fat",
      "metadata": {},
      "outputs": [],
      "execution_count": null
    },
    {
      "id": "6e4fe64e",
      "cell_type": "code",
      "source": "\n\nn = 5  # Número fornecido diretamente\nresultado = fatorial(n)\nprint(f\"O fatorial de {n} é {resultado}\")\n\n",
      "metadata": {
        "trusted": true
      },
      "outputs": [
        {
          "name": "stdout",
          "output_type": "stream",
          "text": "O fatorial de 5 é 120\n"
        }
      ],
      "execution_count": 2
    },
    {
      "id": "c0a1f599",
      "cell_type": "markdown",
      "source": "### Q2.\n\n- Escreva uma função em Python chamada ```soma_quadrados``` que recebe dois números como parâmetros e retorna a soma dos seus quadrados. \n- No programa principal solicite ao usuário que insira dois números e utilize a função para exibir a soma dos quadrados.",
      "metadata": {}
    },
    {
      "id": "6dbddaad",
      "cell_type": "code",
      "source": "def soma_quadrados(num1, num2):\n    # Calcula a soma dos quadrados dos dois números\n    return num1**2 + num2**2\n\n",
      "metadata": {},
      "outputs": [],
      "execution_count": null
    },
    {
      "id": "9175a7da",
      "cell_type": "code",
      "source": "def soma_quadrados(num1, num2):\n    # Calcula a soma dos quadrados\n    return num1**2 + num2**2\n\n# Programa principal\nnum1 = float(input(\"Insira o primeiro número: \"))\nnum2 = float(input(\"Insira o segundo número: \"))\n\n# Usando a função para calcular e exibir o resultado\nresultado = soma_quadrados(num1, num2)\nprint(f\"A soma dos quadrados de {num1} e {num2} é {resultado}.\")\n",
      "metadata": {},
      "outputs": [],
      "execution_count": null
    },
    {
      "id": "6ba34ce0",
      "cell_type": "markdown",
      "source": "### Q3.\n\n- Crie uma função em Python chamada ```soma_digitos``` que recebe um número inteiro como parâmetro e retorna a soma dos seus dígitos. Por exemplo, para o número 123, a função deve retornar 6, $(1 + 2 + 3)$.\n    - O desafio aqui é separar os dígitos de um número inteiro usando operações aritméticas <br> <br>\n\n- No programa principal solicite ao usuário que insira um número e utilize a função ```soma_digitos``` para calcular e exibir a soma dos seus dígitos.",
      "metadata": {}
    },
    {
      "id": "34838ebf",
      "cell_type": "code",
      "source": "def soma_digitos(numero):\n    soma = 0\n    while numero > 0:\n        soma += numero % 10  # Pega o último dígito\n        numero //= \n",
      "metadata": {},
      "outputs": [],
      "execution_count": null
    },
    {
      "id": "27c35b21",
      "cell_type": "code",
      "source": "numero = int(input(\"Insira um número inteiro: \"))\nresultado = soma_digitos(numero)\nprint(f\"A soma dos dígitos de {numero} é {resultado}.\")\n",
      "metadata": {},
      "outputs": [],
      "execution_count": null
    },
    {
      "id": "c318b159",
      "cell_type": "markdown",
      "source": "### Q4.\n\n- Crie a função ```inverteValor()``` que recebe um inteiro de qualquer tamanho e retorna esse valor invertido usando apenas operações aritméticas\n- Crie a função ```verificaInverso()``` que recebe o valor original e o valor invertido e retorna verdadeiro se ambos forem igualmente par ou igualmente ímpar. Retorne falso caso contrário.\n- No programa principal, peça um valor do usuário e imprima o retorno de ambas as funções.\n",
      "metadata": {}
    },
    {
      "id": "e4e47d1d",
      "cell_type": "code",
      "source": "# Função que inverte o valor de um número usando apenas operações aritméticas\ndef inverteValor(numero):\n    invertido = 0\n    while numero > 0:\n        invertido = invertido * 10 + (numero % 10)  # Adiciona o último dígito ao número invertido\n        numero //= 10  # Remove o último dígito do número original\n    return invertido\n\n# Função que verifica se o valor original e o invertido são ambos pares ou ambos ímpares\ndef verificaInverso(original, invertido):\n    return (original % 2 == invertido % 2)  # Retorna True se ambos forem pares ou ambos forem ímpares\n\n",
      "metadata": {},
      "outputs": [],
      "execution_count": null
    },
    {
      "id": "a9514e56",
      "cell_type": "code",
      "source": "# Programa principal\nnumero = int(input(\"Insira um número inteiro: \"))\ninvertido = inverteValor(numero)\nverificacao = verificaInverso(numero, invertido)\n\nprint(f\"O número invertido é {invertido}.\")\nprint(f\"Ambos são pares ou ímpares? {verificacao}.\")",
      "metadata": {},
      "outputs": [],
      "execution_count": null
    },
    {
      "id": "329be966",
      "cell_type": "markdown",
      "source": "### Q5.\n\nVocê está desenvolvendo um programa para auxiliar em cálculos de geometria básica. Crie as seguintes funções:\n- A função ```calcula_perimetro_triangulo()``` que recebe três inteiros correspondentes aos lados de um triângulo e retorna o perímetro do triângulo, ou seja, a soma dos seus lados.\n- A função ```calcula_perimetro_circulo()``` que recebe um inteiro referente ao raio do círculo e retorna o perímetro do círculo, dado por $2 \\pi r$. Use a constante $\\pi$ da biblioteca ```math```.\n- A função ```calcula_perimetro_retangulo()``` que possui um parâmetro obrigatório ```lado1``` e um opcional ```lado2```, ambos inteiros. Se o valor opcional não for fornecido, significa que se trata de um quadrado. Sua função deve calcular e retornar o perímetro do retângulo, ou seja, a soma de seus lados. \n    - Para o quadrado, é dado por $4 \\times lado1$\n    - Para o retângulo é dado por $2 \\times lado1 + 2 \\times lado2$\n    \n- No programa principal apresente um menu com as opções disponíveis do seu sistema e uma quarta opção ```Sair```. Solicite ao usuário a opção desejada, solicite as entradas correspondentes à opção escolhida, invoque a respective função e apresente o seu retorno. Seu programa deve retornar ao menu até que o usuário escolha a opção ```Sair```\n\nExemplo de interação:\n```\n1 - Calcular perímetro triângulo\n2 - Calcular perímetro círculo\n3 - Calcular perímetro retângulo\n4 - Sair\n\nOpção: 1\nDigite os três lados do triângulo:\n3\n4\n5\nO perímetro é: 12\n\n1 - Calcular perímetro triângulo\n2 - Calcular perímetro círculo\n3 - Calcular perímetro retângulo\n4 - Sair\n\nOpção: 3\nInforme os dois lados do retângulo. Se for um quadrado, digite 0 para o segundo valor:\n5\n0\nO perímetro é: 20\n\n1 - Calcular perímetro triângulo\n2 - Calcular perímetro círculo\n3 - Calcular perímetro retângulo\n4 - Sair\n\nOpção: 4\n```",
      "metadata": {}
    },
    {
      "id": "0793d328",
      "cell_type": "code",
      "source": "# Função que calcula o perímetro de um triângulo\ndef calcula_perimetro_triangulo(lado1, lado2, lado3):\n    return lado1 + lado2 + lado3\n\n# Função que calcula o perímetro de um círculo\ndef calcula_perimetro_circulo(raio):\n    return 2 * math.pi * raio\n\n# Função que calcula o perímetro de um retângulo (ou quadrado)\ndef calcula_perimetro_retangulo(lado1, lado2=0):\n    if lado2 == 0:  # Se for quadrado\n        lado2 = lado1\n    return 2 * (lado1 + lado2)\n",
      "metadata": {},
      "outputs": [],
      "execution_count": null
    },
    {
      "id": "36269c71",
      "cell_type": "code",
      "source": "# Programa principal com o menu\ndef menu():\n    while True:\n        print(\"\\n1 - Calcular perímetro triângulo\")\n        print(\"2 - Calcular perímetro círculo\")\n        print(\"3 - Calcular perímetro retângulo\")\n        print(\"4 - Sair\")\n        \n        opcao = int(input(\"\\nOpção: \"))\n        \n        if opcao == 1:\n            # Calcula o perímetro do triângulo\n            lado1 = int(input(\"Digite o primeiro lado do triângulo: \"))\n            lado2 = int(input(\"Digite o segundo lado do triângulo: \"))\n            lado3 = int(input(\"Digite o terceiro lado do triângulo: \"))\n            perimetro = calcula_perimetro_triangulo(lado1, lado2, lado3)\n            print(f\"O perímetro do triângulo é: {perimetro}\")\n        \n        elif opcao == 2:\n            # Calcula o perímetro do círculo\n            raio = int(input(\"Digite o raio do círculo: \"))\n            perimetro = calcula_perimetro_circulo(raio)\n            print(f\"O perímetro do círculo é: {perimetro:.2f}\")\n        \n        elif opcao == 3:\n            # Calcula o perímetro do retângulo ou quadrado\n            lado1 = int(input(\"Digite o primeiro lado do retângulo: \"))\n            lado2 = int(input(\"Digite o segundo lado do retângulo (digite 0 se for um quadrado): \"))\n            perimetro = calcula_perimetro_retangulo(lado1, lado2)\n            print(f\"O perímetro é: {perimetro}\")\n        \n        elif opcao == 4:\n            print(\"Saindo do programa.\")\n            break\n        \n        else:\n            print(\"Opção inválida. Tente novamente.\")\n",
      "metadata": {},
      "outputs": [],
      "execution_count": null
    },
    {
      "id": "3016bcc7",
      "cell_type": "markdown",
      "source": "## Funções ```lambda```",
      "metadata": {}
    },
    {
      "id": "f9cdb8dd",
      "cell_type": "markdown",
      "source": "### Q6.\n\nCrie uma função lambda para verificar se um número é par ou ímpar. Em seguida, solicite ao usuário um número indefinidos de valores (até que o usuário digite 0). Para cada valor de entrada, informe se é par ou ímpar.\n\nExemplo de interação:\n```\nDigite os valores que deseja verificar a paridade (digite 0 para finalizar a entrada de dados):\n3\nímpar\n8\npar\n12\npar\n5\nímpar\n7ímpar\n```",
      "metadata": {}
    },
    {
      "id": "e3c31a78",
      "cell_type": "code",
      "source": "# Função lambda para verificar se um número é par ou ímpar\npar_ou_impar = lambda x: \"par\" if x % 2 == 0 else \"ímpar\"\n\n# Solicita valores indefinidos do usuário até que ele digite 0\nprint(\"Digite os valores que deseja verificar a paridade (digite 0 para finalizar a entrada de dados):\")\n\nwhile True:\n    numero = int(input())\n    if numero == 0:\n        break  # Encerra o loop se o usuário digitar 0\n    print(par_ou_impar(numero))  # Verifica e imprime se o número é par ou ímpar\n",
      "metadata": {},
      "outputs": [],
      "execution_count": null
    },
    {
      "id": "5a87474d",
      "cell_type": "markdown",
      "source": "### Q7.\n\nEscreva um programa que pergunte ao usuário qual operação ele deseja: maior ou menor.\nEm seguida leia uma quantidade indefinida de valores do usuário, até que o usuário digite o valor zero.\nApresente ao final o maior ou menor dos valores digitados de acordo com a escolha do usuário.\n\n**Sua solução deve incluir pelo menos uma função ```lambda```** \n\nExemplo de interação:\n```\nOpções: (1) maior ou (2) menor?\nOpção: 1\n\nDigite os valores de entrada. Digite 0 para finalizar a entrada de valores.\n4\n12\n15\n1\n0\n\nO maior valor é: 15\n```",
      "metadata": {}
    },
    {
      "id": "ee3f68ca",
      "cell_type": "code",
      "source": "## Escreva aqui o programa princ# Função lambda para encontrar o maior ou menor valor\nescolhe_maior = lambda x, y: x if x > y else y\nescolhe_menor = lambda x, y: x if x < y else y\n\n# Pergunta ao usuário qual operação ele deseja: maior ou menor\nopcao = int(input(\"Opções: (1) maior ou (2) menor?\\nOpção: \"))\n\n# Solicita valores indefinidos do usuário até que ele digite 0\nprint(\"Digite os valores de entrada. Digite 0 para finalizar a entrada de valores.\")\n\nprimeiro_valor = int(input())\nif primeiro_valor == 0:\n    print(\"Nenhum valor foi informado.\")\nelse:\n    resultado = primeiro_valor  # Inicializa com o primeiro valor\n\n    while True:\n        valor = int(input())\n        if valor == 0:\n            break  # Encerra o loop quando o valor é zero\n        \n        if opcao == 1:\n            resultado = escolhe_maior(resultado, valor)  # Compara para encontrar o maior\n        elif opcao == 2:\n            resultado = escolhe_menor(resultado, valor)  # Compara para encontrar o menor\n\n    if opcao == 1:\n        print(f\"O maior valor é: {resultado}\")\n    elif opcao == 2:\n        print(f\"O menor valor é: {resultado}\")\nipal \n",
      "metadata": {},
      "outputs": [],
      "execution_count": null
    }
  ]
}